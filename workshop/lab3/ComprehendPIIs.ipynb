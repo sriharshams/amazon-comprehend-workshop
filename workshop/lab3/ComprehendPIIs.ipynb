{
 "cells": [
  {
   "cell_type": "markdown",
   "metadata": {},
   "source": [
    "# Amazon Comprehend PII detection\n",
    "\n",
    "Amazon comprehend added new capabilities to detect PII entities in text data. In this notebook, we will explore different ways to access and use Comprehend PII detection service.\n",
    "\n",
    "\n",
    "        \n",
    "## Overview\n",
    "\n",
    "1. [PII detection via Console](#console)\n",
    "1. [PII detection via CLI](#cli)\n",
    "1. [Async APIs to Redact PII](#redact)\n",
    "1. [Async APIs to Redact / Mask PII Entities](#mask)\n",
    "1. [Cleanup](#cleanup)"
   ]
  },
  {
   "cell_type": "markdown",
   "metadata": {},
   "source": [
    "## PII detection via Console <a class=\"anchor\" id=\"console\"/>\n",
    "\n",
    "To get started with Amazon Comprehend, all you need is an [AWS account](https://aws.amazon.com/premiumsupport/knowledge-center/create-and-activate-aws-account/).\n",
    "\n",
    "In the [Amazon Comprehend console](https://console.aws.amazon.com/comprehend/v2/home?region=us-east-1#home) in the Input Text section, choose analysis type Built-in radio. Provide the following text in Input text and click Analyze\n",
    "\n",
    "```\n",
    "   Good morning, everybody. My name is Van Bokhorst Serdar, and today I feel like sharing a whole lot of personal information with you. Let's start with my Email address SerdarvanBokhorst@dayrep.com. My address is 2657 Koontz Lane, Los Angeles, CA. My phone number is 818-828-6231. My Social security number is 548-95-6370. My Bank account number is 940517528812 and routing number 195991012. My credit card number is 5534816011668430, Expiration Date 6/1/2022, my C V V code is 121, and my pin 123456. Well, I think that's it. You know a whole lot about me. And I hope that Amazon comprehend is doing a good job at identifying PII entities so you can redact my personal information away. Let's check.\n",
    "```\n",
    "\n",
    "1. Which entities do you see detected under **Insights** `PII` tab?\n",
    "\n",
    "\n",
    "2. Examine the JSON response for one of these entities so you can see how `BeginOffset` and `EndOffset` could be used to highlight text."
   ]
  },
  {
   "cell_type": "markdown",
   "metadata": {},
   "source": [
    "## PII detection via CLI  <a class=\"anchor\" id=\"cli\"/>\n",
    "\n",
    "Let's try to use the [AWS CLI](https://aws.amazon.com/cli/) for sentiment detection.\n",
    "\n",
    "\n",
    "1. Confirm you have the AWS CLI setup and configured using something like this `aws sagemaker list-notebook-instances`"
   ]
  },
  {
   "cell_type": "code",
   "execution_count": 22,
   "metadata": {},
   "outputs": [],
   "source": [
    "#!aws sagemaker list-notebook-instances"
   ]
  },
  {
   "cell_type": "markdown",
   "metadata": {},
   "source": [
    "2. Now let's try to identify PII entities using the command line."
   ]
  },
  {
   "cell_type": "code",
   "execution_count": 4,
   "metadata": {},
   "outputs": [
    {
     "name": "stdout",
     "output_type": "stream",
     "text": [
      "{\n",
      "    \"Entities\": [\n",
      "        {\n",
      "            \"Score\": 0.9970920085906982,\n",
      "            \"Type\": \"NAME\",\n",
      "            \"BeginOffset\": 36,\n",
      "            \"EndOffset\": 55\n",
      "        },\n",
      "        {\n",
      "            \"Score\": 0.9974018335342407,\n",
      "            \"Type\": \"EMAIL\",\n",
      "            \"BeginOffset\": 167,\n",
      "            \"EndOffset\": 195\n",
      "        },\n",
      "        {\n",
      "            \"Score\": 0.9999964237213135,\n",
      "            \"Type\": \"ADDRESS\",\n",
      "            \"BeginOffset\": 211,\n",
      "            \"EndOffset\": 245\n",
      "        },\n",
      "        {\n",
      "            \"Score\": 0.9999964237213135,\n",
      "            \"Type\": \"PHONE\",\n",
      "            \"BeginOffset\": 265,\n",
      "            \"EndOffset\": 277\n",
      "        },\n",
      "        {\n",
      "            \"Score\": 0.9999970197677612,\n",
      "            \"Type\": \"SSN\",\n",
      "            \"BeginOffset\": 308,\n",
      "            \"EndOffset\": 319\n",
      "        },\n",
      "        {\n",
      "            \"Score\": 0.9999761581420898,\n",
      "            \"Type\": \"BANK_ACCOUNT_NUMBER\",\n",
      "            \"BeginOffset\": 347,\n",
      "            \"EndOffset\": 359\n",
      "        },\n",
      "        {\n",
      "            \"Score\": 0.9999786615371704,\n",
      "            \"Type\": \"BANK_ROUTING\",\n",
      "            \"BeginOffset\": 379,\n",
      "            \"EndOffset\": 388\n",
      "        },\n",
      "        {\n",
      "            \"Score\": 0.9932628273963928,\n",
      "            \"Type\": \"CREDIT_DEBIT_NUMBER\",\n",
      "            \"BeginOffset\": 415,\n",
      "            \"EndOffset\": 431\n",
      "        },\n",
      "        {\n",
      "            \"Score\": 0.9999850392341614,\n",
      "            \"Type\": \"CREDIT_DEBIT_EXPIRY\",\n",
      "            \"BeginOffset\": 449,\n",
      "            \"EndOffset\": 457\n",
      "        },\n",
      "        {\n",
      "            \"Score\": 0.9999963045120239,\n",
      "            \"Type\": \"CREDIT_DEBIT_CVV\",\n",
      "            \"BeginOffset\": 476,\n",
      "            \"EndOffset\": 479\n",
      "        },\n",
      "        {\n",
      "            \"Score\": 0.9999796152114868,\n",
      "            \"Type\": \"PIN\",\n",
      "            \"BeginOffset\": 492,\n",
      "            \"EndOffset\": 498\n",
      "        }\n",
      "    ]\n",
      "}\n"
     ]
    }
   ],
   "source": [
    "!aws comprehend detect-pii-entities \\\n",
    "--language-code en --text \\\n",
    "\"Good morning, everybody. My name is Van Bokhorst Serdar, and today I feel like sharing a whole lot of personal information with you. Let's start with my Email address SerdarvanBokhorst@dayrep.com. My address is 2657 Koontz Lane, Los Angeles, CA. My phone number is 818-828-6231. My Social security number is 548-95-6370. My Bank account number is 940517528812 and routing number 195991012. My credit card number is 5534816011668430, Expiration Date 6/1/2022, my C V V code is 121, and my pin 123456. Well, I think that's it. You know a whole lot about me. And I hope that Amazon comprehend is doing a good job at identifying PII entities so you can redact my personal information away from this document. Let's check.\""
   ]
  },
  {
   "cell_type": "markdown",
   "metadata": {},
   "source": [
    "Install jq for parsing output, jq is a lightweight and flexible command-line JSON processor."
   ]
  },
  {
   "cell_type": "code",
   "execution_count": 9,
   "metadata": {},
   "outputs": [
    {
     "name": "stdout",
     "output_type": "stream",
     "text": [
      "Hit:1 http://security.debian.org/debian-security buster/updates InRelease\n",
      "Hit:2 http://deb.debian.org/debian buster InRelease\n",
      "Hit:3 http://deb.debian.org/debian buster-updates InRelease\n",
      "Reading package lists... Done\n",
      "Reading package lists... Done\n",
      "Building dependency tree       \n",
      "Reading state information... Done\n",
      "jq is already the newest version (1.5+dfsg-2+b1).\n",
      "0 upgraded, 0 newly installed, 0 to remove and 24 not upgraded.\n"
     ]
    }
   ],
   "source": [
    "# open a new terminal and install jq\n",
    "# install jq\n",
    "!apt-get update\n",
    "!apt-get install jq"
   ]
  },
  {
   "cell_type": "code",
   "execution_count": 10,
   "metadata": {},
   "outputs": [
    {
     "name": "stdout",
     "output_type": "stream",
     "text": [
      "NAME\n",
      "EMAIL\n",
      "ADDRESS\n",
      "PHONE\n",
      "SSN\n",
      "BANK_ACCOUNT_NUMBER\n",
      "BANK_ROUTING\n",
      "CREDIT_DEBIT_NUMBER\n",
      "CREDIT_DEBIT_EXPIRY\n",
      "CREDIT_DEBIT_CVV\n",
      "PIN\n"
     ]
    }
   ],
   "source": [
    "!aws comprehend detect-pii-entities \\\n",
    "--language-code en --text \\\n",
    "\"Good morning, everybody. My name is Van Bokhorst Serdar, and today I feel like sharing a whole lot of personal information with you. Let's start with my Email address SerdarvanBokhorst@dayrep.com. My address is 2657 Koontz Lane, Los Angeles, CA. My phone number is 818-828-6231. My Social security number is 548-95-6370. My Bank account number is 940517528812 and routing number 195991012. My credit card number is 5534816011668430, Expiration Date 6/1/2022, my C V V code is 121, and my pin 123456. Well, I think that's it. You know a whole lot about me. And I hope that Amazon comprehend is doing a good job at identifying PII entities so you can redact my personal information away from this document. Let's check.\" \\\n",
    "| jq -r '.Entities[] |  .Type '"
   ]
  },
  {
   "cell_type": "markdown",
   "metadata": {},
   "source": [
    "## Async APIs to Redact PII Entities<a class=\"anchor\" id=\"redact\"/>\n",
    "\n",
    "Lets look at the input content we want to redact, while redacting we will replace PIIEntity with the name of the entity\n"
   ]
  },
  {
   "cell_type": "code",
   "execution_count": 11,
   "metadata": {},
   "outputs": [
    {
     "name": "stdout",
     "output_type": "stream",
     "text": [
      "Good morning, everybody. My name is Van Bokhorst Serdar, and today I feel like sharing a whole lot of personal information with you. Let's start with my Email address SerdarvanBokhorst@dayrep.com. My address is 2657 Koontz Lane, Los Angeles, CA. My phone number is 818-828-6231. My Social security number is 548-95-6370. My Bank account number is 940517528812 and routing number 195991012. My credit card number is 5534816011668430, Expiration Date 6/1/2022, my C V V code is 121, and my pin 123456. Well, I think that's it. You know a whole lot about me. And I hope that Amazon comprehend is doing a good job at identifying PII entities so you can redact my personal information away from this document. Let's check."
     ]
    }
   ],
   "source": [
    "!aws s3 cp s3://ai-ml-services-lab/public/labs/comprehend/pii/input/redact/pii-s3-input.txt -"
   ]
  },
  {
   "cell_type": "markdown",
   "metadata": {},
   "source": [
    "### Async request\n",
    "1. Using Async APIs for an input file in s3, we can redact the content."
   ]
  },
  {
   "cell_type": "code",
   "execution_count": 15,
   "metadata": {},
   "outputs": [
    {
     "name": "stdout",
     "output_type": "stream",
     "text": [
      "{\n",
      "    \"JobId\": \"1fbe531aafad163b2fd3bf7287525482\",\n",
      "    \"JobStatus\": \"SUBMITTED\"\n",
      "}\n"
     ]
    }
   ],
   "source": [
    "!aws comprehend start-pii-entities-detection-job \\\n",
    " --input-data-config S3Uri=\"s3://ai-ml-services-lab/public/labs/comprehend/pii/input/redact/pii-s3-input.txt\"  \\\n",
    " --output-data-config S3Uri=\"s3://ai-ml-services-lab/public/labs/comprehend/pii/output/redact/\"  \\\n",
    " --mode \"ONLY_REDACTION\" \\\n",
    " --redaction-config PiiEntityTypes=\"BANK_ACCOUNT_NUMBER\",\"BANK_ROUTING\",\"CREDIT_DEBIT_NUMBER\",\"CREDIT_DEBIT_CVV\",\"CREDIT_DEBIT_EXPIRY\",\"PIN\",\"EMAIL\",\"ADDRESS\",\"NAME\",\"PHONE\",\"SSN\",MaskMode=\"REPLACE_WITH_PII_ENTITY_TYPE\" \\\n",
    " --data-access-role-arn \"arn:aws:iam::<ACCT>:role/ComprehendBucketAccessRole\" \\\n",
    " --job-name \"comprehend-blog-redact-001\" \\\n",
    " --language-code \"en\""
   ]
  },
  {
   "cell_type": "markdown",
   "metadata": {},
   "source": [
    "2. Monitor redaction job"
   ]
  },
  {
   "cell_type": "code",
   "execution_count": 23,
   "metadata": {},
   "outputs": [],
   "source": [
    "#!aws comprehend describe-pii-entities-detection-job --job-id \"1fbe531aafad163b2fd3bf7287525482\""
   ]
  },
  {
   "cell_type": "markdown",
   "metadata": {},
   "source": [
    "### Output\n",
    "Lets look at the output"
   ]
  },
  {
   "cell_type": "code",
   "execution_count": 24,
   "metadata": {},
   "outputs": [],
   "source": [
    "#!aws s3 cp s3://ai-ml-services-lab/public/labs/comprehend/pii/output/redact/<acct>-PII-1fbe531aafad163b2fd3bf7287525482/output/pii-s3-input.txt.out -\n",
    "    "
   ]
  },
  {
   "cell_type": "markdown",
   "metadata": {},
   "source": [
    "## Async APIs to Redact / Mask PII Entities<a class=\"anchor\" id=\"mask\"/>\n",
    "\n",
    "Lets look at the input content we want to redact, while redacting we will replace PIIEntity with the maked char * of the entity\n"
   ]
  },
  {
   "cell_type": "code",
   "execution_count": 18,
   "metadata": {},
   "outputs": [
    {
     "name": "stdout",
     "output_type": "stream",
     "text": [
      "Good morning, everybody. My name is Van Bokhorst Serdar, and today I feel like sharing a whole lot of personal information with you. Let's start with my Email address SerdarvanBokhorst@dayrep.com. My address is 2657 Koontz Lane, Los Angeles, CA. My phone number is 818-828-6231. My Social security number is 548-95-6370. My Bank account number is 940517528812 and routing number 195991012. My credit card number is 5534816011668430, Expiration Date 6/1/2022, my C V V code is 121, and my pin 123456. Well, I think that's it. You know a whole lot about me. And I hope that Amazon comprehend is doing a good job at identifying PII entities so you can redact my personal information away from this document. Let's check."
     ]
    }
   ],
   "source": [
    "!aws s3 cp s3://ai-ml-services-lab/public/labs/comprehend/pii/input/mask/pii-s3-input.txt -"
   ]
  },
  {
   "cell_type": "markdown",
   "metadata": {},
   "source": [
    "### Async request\n",
    "\n",
    "1. Using Async APIs for an input file in s3, we can redact the content and mask the redacted content."
   ]
  },
  {
   "cell_type": "code",
   "execution_count": 19,
   "metadata": {},
   "outputs": [
    {
     "name": "stdout",
     "output_type": "stream",
     "text": [
      "{\n",
      "    \"JobId\": \"960d6d5347840302b722edd115fb8195\",\n",
      "    \"JobStatus\": \"SUBMITTED\"\n",
      "}\n"
     ]
    }
   ],
   "source": [
    "!aws comprehend start-pii-entities-detection-job \\\n",
    " --input-data-config S3Uri=\"s3://ai-ml-services-lab/public/labs/comprehend/pii/input/mask/pii-s3-input.txt\"  \\\n",
    " --output-data-config S3Uri=\"s3://ai-ml-services-lab/public/labs/comprehend/pii/output/mask/\"  \\\n",
    " --mode \"ONLY_REDACTION\" \\\n",
    " --redaction-config PiiEntityTypes=\"BANK_ACCOUNT_NUMBER\",\"BANK_ROUTING\",\"CREDIT_DEBIT_NUMBER\",\"CREDIT_DEBIT_CVV\",\"CREDIT_DEBIT_EXPIRY\",\"PIN\",\"EMAIL\",\"ADDRESS\",\"NAME\",\"PHONE\",\"SSN\",MaskMode=\"MASK\",MaskCharacter=\"*\" \\\n",
    " --data-access-role-arn \"arn:aws:iam::<ACCT>:role/ComprehendBucketAccessRole\" \\\n",
    " --job-name \"comprehend-blog-redact-mask-001\" \\\n",
    " --language-code \"en\""
   ]
  },
  {
   "cell_type": "markdown",
   "metadata": {},
   "source": [
    "2. Monitor redaction masking job"
   ]
  },
  {
   "cell_type": "code",
   "execution_count": 25,
   "metadata": {},
   "outputs": [],
   "source": [
    "#!aws comprehend describe-pii-entities-detection-job --job-id \"46e49284a3ea037d48f80371c053bf74\""
   ]
  },
  {
   "cell_type": "markdown",
   "metadata": {},
   "source": [
    "### Output\n",
    "Lets look at the output"
   ]
  },
  {
   "cell_type": "code",
   "execution_count": 21,
   "metadata": {},
   "outputs": [
    {
     "name": "stdout",
     "output_type": "stream",
     "text": [
      "Good morning, everybody. My name is ******************** and today I feel like sharing a whole lot of personal information with you. Let's start with my Email address ***************************** My address is ********************************** My phone number is ************* My Social security number is ************ My Bank account number is ************ and routing number ********** My credit card number is ***************** Expiration Date ********* my C V V code is **** and my pin ******* Well, I think that's it. You know a whole lot about me. And I hope that Amazon comprehend is doing a good job at identifying PII entities so you can redact my personal information away from this document. Let's check.\n"
     ]
    }
   ],
   "source": [
    "!aws s3 cp s3://ai-ml-services-lab/public/labs/comprehend/pii/output/mask/<Acct>-PII-46e49284a3ea037d48f80371c053bf74/output/pii-s3-input.txt.out -"
   ]
  },
  {
   "cell_type": "markdown",
   "metadata": {},
   "source": [
    "## Cleanup <a class=\"anchor\" id=\"cleanup\"/>\n",
    "TBD to clean all the resources"
   ]
  }
 ],
 "metadata": {
  "instance_type": "ml.t3.medium",
  "kernelspec": {
   "display_name": "Python 3 (Data Science)",
   "language": "python",
   "name": "python3__SAGEMAKER_INTERNAL__arn:aws:sagemaker:us-east-1:081325390199:image/datascience-1.0"
  },
  "language_info": {
   "codemirror_mode": {
    "name": "ipython",
    "version": 3
   },
   "file_extension": ".py",
   "mimetype": "text/x-python",
   "name": "python",
   "nbconvert_exporter": "python",
   "pygments_lexer": "ipython3",
   "version": "3.7.10"
  }
 },
 "nbformat": 4,
 "nbformat_minor": 4
}
